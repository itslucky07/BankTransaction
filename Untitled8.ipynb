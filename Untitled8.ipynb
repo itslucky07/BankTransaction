{
  "nbformat": 4,
  "nbformat_minor": 0,
  "metadata": {
    "colab": {
      "provenance": [],
      "gpuType": "T4"
    },
    "kernelspec": {
      "name": "python3",
      "display_name": "Python 3"
    },
    "language_info": {
      "name": "python"
    },
    "accelerator": "GPU"
  },
  "cells": [
    {
      "cell_type": "code",
      "execution_count": null,
      "metadata": {
        "id": "tutdEmsWKPqu"
      },
      "outputs": [],
      "source": []
    },
    {
      "cell_type": "code",
      "source": [
        "import pandas as pd\n",
        "from sklearn.ensemble import IsolationForest\n",
        "from sklearn.preprocessing import StandardScaler\n",
        "\n",
        "# Assuming your data is in a CSV file named 'transactions.csv'\n",
        "df = pd.read_csv('/content/1b.csv') # Load your data into a pandas DataFrame named 'df'\n",
        "\n",
        "def preprocess_data(df):\n",
        "    \"\"\"Preprocess the dataset for anomaly detection.\"\"\"\n",
        "    df['Date'] = pd.to_datetime(df['Date'], errors='coerce')  # Convert date to datetime format\n",
        "    df['Days_Since_First'] = (df['Date'] - df['Date'].min()).dt.days  # Convert date to numerical value\n",
        "\n",
        "    # Selecting features for the model\n",
        "    feature_columns = ['Amount', 'Balance', 'Days_Since_First']\n",
        "    df_features = df[feature_columns].dropna()  # Drop NaN values\n",
        "\n",
        "    return df, df_features\n",
        "\n",
        "def train_anomaly_detection_model(data):\n",
        "    \"\"\"Train an optimized Isolation Forest model.\"\"\"\n",
        "    scaler = StandardScaler()\n",
        "    X_scaled = scaler.fit_transform(data)\n",
        "\n",
        "    model = IsolationForest(n_estimators=200, contamination=0.1, random_state=42, bootstrap=True, n_jobs=-1)\n",
        "    model.fit(X_scaled)\n",
        "\n",
        "    return model, scaler\n",
        "\n",
        "def detect_forged_transactions(df, data, model, scaler):\n",
        "    \"\"\"Detect forged transactions and add the 'is_forged' label.\"\"\"\n",
        "    X_scaled = scaler.transform(data)\n",
        "    predictions = model.predict(X_scaled)\n",
        "\n",
        "    # Isolation Forest labels anomalies as -1\n",
        "    df.loc[data.index, 'is_forged'] = (predictions == -1).astype(int)\n",
        "\n",
        "    return df\n",
        "\n",
        "# Preprocess data\n",
        "df, df_features = preprocess_data(df)\n",
        "\n",
        "# Train model\n",
        "model, scaler = train_anomaly_detection_model(df_features)\n",
        "\n",
        "# Detect forged transactions\n",
        "results = detect_forged_transactions(df, df_features, model, scaler)\n",
        "\n",
        "# Save results to CSV in the current directory\n",
        "output_file = \"detected_forged_transactions.csv\"\n",
        "results.to_csv(output_file, index=False)\n",
        "\n",
        "print(f\"Detection complete. {results['is_forged'].sum()} forged transactions detected.\")\n",
        "print(f\"Results saved in '{output_file}'\")"
      ],
      "metadata": {
        "colab": {
          "base_uri": "https://localhost:8080/"
        },
        "id": "AV82Vw8L1Tlt",
        "outputId": "79f716de-1af3-4d65-e9a3-7f80a4ef1660"
      },
      "execution_count": 1,
      "outputs": [
        {
          "output_type": "stream",
          "name": "stdout",
          "text": [
            "Detection complete. 100.0 forged transactions detected.\n",
            "Results saved in 'detected_forged_transactions.csv'\n"
          ]
        }
      ]
    }
  ]
}